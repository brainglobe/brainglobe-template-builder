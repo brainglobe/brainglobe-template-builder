{
 "cells": [
  {
   "cell_type": "markdown",
   "metadata": {},
   "source": [
    "# Build template using Advanced Normalization Tools (ANTs)\n",
    "Specifically, use the scripts from the [optimized_antsMultivariateTemplateConstruction](https://github.com/CoBrALab/optimized_antsMultivariateTemplateConstruction) repository by CoBrA Lab\n",
    "## Preparatory steps (need to be done before running this notebook)\n",
    "1. __ANTs installation:__ Complile ANTs from source (on linux or Mac OS) following these [instructions](https://github.com/ANTsX/ANTs/wiki/Compiling-ANTs-on-Linux-and-Mac-OS)\n",
    "2. __ANTs post-installation:__\n",
    "   1. Complete the post-installation steps from above instructions to create `$ANTSPATH` and add it to your PATH.\n",
    "   2. Copy all the scripts from the `Scripts` folder in the [ANTs repository](https://github.com/ANTsX/ANTs) to `$ANTSPATH`. Make sure that the scripts are executable.\n",
    "3. Clone the [optimized_antsMultivariateTemplateConstruction](https://github.com/CoBrALab/optimized_antsMultivariateTemplateConstruction) and the [minc-toolkits-extras](https://github.com/CoBrALab/minc-toolkit-extras) repositories.\n",
    "5. Copy all scripts from the cloned `optimized_antsMultivariateTemplateConstruction` as well as 2 scripts from the cloned `minc-toolkit-extras` to a _bin_ folder that's included in your PATH (could also be `$ANTSPATH`). Make sure that the scripts are executable.\n",
    "6. Make sure to install [qbatch](https://github.com/pipitone/qbatch) via `pip install qbatch` and gnu-paraller via `sudo apt-get install parallel`"
   ]
  },
  {
   "cell_type": "markdown",
   "metadata": {},
   "source": [
    "## Import libraries"
   ]
  },
  {
   "cell_type": "code",
   "execution_count": 1,
   "metadata": {},
   "outputs": [],
   "source": [
    "import subprocess\n",
    "import pathlib as pl"
   ]
  },
  {
   "cell_type": "markdown",
   "metadata": {},
   "source": [
    "## Set paths"
   ]
  },
  {
   "cell_type": "code",
   "execution_count": 2,
   "metadata": {},
   "outputs": [],
   "source": [
    "# Path to data (assert that folders exist)\n",
    "data_folder = pl.Path('/home/nsirmpilatze/Data/bird-templates/BlackCap')\n",
    "assert data_folder.is_dir(), f'{data_folder} is not a valid directory'\n",
    "\n",
    "# Path to nifti images (Created by `Tiff to Nifti.ipynb` module)\n",
    "data_nifti = data_folder / 'brains_nifti' # Destination for nifti files\n",
    "assert data_nifti.exists(), f'{data_nifti} is not a valid directory'\n",
    "\n",
    "# Folder where the template will be saved (create if it doesn't exist)\n",
    "template_folder = data_folder / 'template_v1'\n",
    "template_folder.mkdir(exist_ok=True)"
   ]
  },
  {
   "cell_type": "markdown",
   "metadata": {},
   "source": [
    "## Template construction\n",
    "Generate list of nifti images to be used for template construction and put the paths in a text file"
   ]
  },
  {
   "cell_type": "code",
   "execution_count": 3,
   "metadata": {},
   "outputs": [
    {
     "name": "stdout",
     "output_type": "stream",
     "text": [
      "/home/nsirmpilatze/Data/bird-templates/BlackCap/brains_nifti/SW_BC38_ch03_green_050_micron.nii\n",
      "/home/nsirmpilatze/Data/bird-templates/BlackCap/brains_nifti/SW_BC58_ch03_green_050_micron.nii\n",
      "/home/nsirmpilatze/Data/bird-templates/BlackCap/brains_nifti/SW_BC73_ch03_green_050_micron.nii\n",
      "/home/nsirmpilatze/Data/bird-templates/BlackCap/brains_nifti/SW_BC74_ch03_green_050_micron.nii\n"
     ]
    }
   ],
   "source": [
    "with open( template_folder / 'inputs.txt', 'w' ) as f:\n",
    "    nifti_paths = [str(p) for p in data_nifti.glob('*.nii')]\n",
    "    for nifti_path in nifti_paths:\n",
    "        print(nifti_path)\n",
    "        f.write(nifti_path + '\\n')"
   ]
  },
  {
   "cell_type": "markdown",
   "metadata": {},
   "source": [
    "Select the image to be used as the initial registration target"
   ]
  },
  {
   "cell_type": "code",
   "execution_count": 4,
   "metadata": {},
   "outputs": [
    {
     "name": "stdout",
     "output_type": "stream",
     "text": [
      "/home/nsirmpilatze/Data/bird-templates/BlackCap/brains_nifti/SW_BC74_ch03_green_050_micron.nii\n"
     ]
    }
   ],
   "source": [
    "# Choose the animal that was used for annotations\n",
    "initial_target_id = 'SW_BC74'\n",
    "initial_target_path = [nii for nii in nifti_paths if initial_target_id in nii][0]\n",
    "print(initial_target_path)"
   ]
  },
  {
   "cell_type": "markdown",
   "metadata": {},
   "source": [
    "Call the `modelbuild.sh` script from the `optimized_antsMultivariateTemplateConstruction` repository"
   ]
  },
  {
   "cell_type": "code",
   "execution_count": 13,
   "metadata": {},
   "outputs": [
    {
     "name": "stdout",
     "output_type": "stream",
     "text": [
      "bash modelbuild.sh --output-dir /home/nsirmpilatze/Data/bird-templates/BlackCap/template_v1 --starting-target /home/nsirmpilatze/Data/bird-templates/BlackCap/brains_nifti/SW_BC74_ch03_green_050_micron.nii --stages rigid,similarity,affine --float /home/nsirmpilatze/Data/bird-templates/BlackCap/template_v1/inputs.txt\n"
     ]
    }
   ],
   "source": [
    "# script to call\n",
    "script = 'bash modelbuild.sh'\n",
    "# Path to inputs.txt\n",
    "inputs = template_folder / 'inputs.txt'\n",
    "# keyword arguments to pass to script\n",
    "kw_args = {'output-dir': template_folder,\n",
    "          'starting-target': initial_target_path,\n",
    "          'stages': 'rigid,similarity,affine'}\n",
    "cmd_kw_args = ' '.join([f'--{k} {v}' for k, v in kw_args.items()])\n",
    "# flags to pass to script\n",
    "flags = ['float']\n",
    "cmd_flags = ' '.join([f'--{flag}' for flag in flags])\n",
    "# build command string\n",
    "cmd = f'{script} {cmd_kw_args} {cmd_flags} {inputs}'\n",
    "print(cmd)\n",
    "# Call it with subprocess\n",
    "# subprocess(cmd, shell=True)\n"
   ]
  },
  {
   "cell_type": "code",
   "execution_count": null,
   "metadata": {},
   "outputs": [],
   "source": []
  }
 ],
 "metadata": {
  "kernelspec": {
   "display_name": "Python 3.10.6 ('bird')",
   "language": "python",
   "name": "python3"
  },
  "language_info": {
   "codemirror_mode": {
    "name": "ipython",
    "version": 3
   },
   "file_extension": ".py",
   "mimetype": "text/x-python",
   "name": "python",
   "nbconvert_exporter": "python",
   "pygments_lexer": "ipython3",
   "version": "3.10.6"
  },
  "orig_nbformat": 4,
  "vscode": {
   "interpreter": {
    "hash": "fa6b88674b7f11e3a2a9aaf1620e8d35bac60775c0f095b8595f60dfe5b675f0"
   }
  }
 },
 "nbformat": 4,
 "nbformat_minor": 2
}
