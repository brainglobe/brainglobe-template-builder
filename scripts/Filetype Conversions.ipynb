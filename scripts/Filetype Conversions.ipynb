{
 "cells": [
  {
   "cell_type": "markdown",
   "metadata": {},
   "source": [
    "# Convert between 3D tiff and nifti images"
   ]
  },
  {
   "cell_type": "code",
   "execution_count": 1,
   "metadata": {},
   "outputs": [],
   "source": [
    "# Automatically reload module code when it is changed\n",
    "%load_ext autoreload\n",
    "%autoreload 2"
   ]
  },
  {
   "cell_type": "markdown",
   "metadata": {},
   "source": [
    "### Import modules"
   ]
  },
  {
   "cell_type": "code",
   "execution_count": 2,
   "metadata": {},
   "outputs": [],
   "source": [
    "import pathlib as pl\n",
    "from build_bird_template import tiff_to_nifti, nifti_to_tiff"
   ]
  },
  {
   "cell_type": "markdown",
   "metadata": {},
   "source": [
    "### Configure paths"
   ]
  },
  {
   "cell_type": "code",
   "execution_count": 8,
   "metadata": {},
   "outputs": [],
   "source": [
    "# Path to data for specific bird species (assert that folders exist)\n",
    "species = 'BlackCap'\n",
    "data_folder = pl.Path(f'/home/nsirmpilatze/Data/bird-templates/{species}')\n",
    "assert data_folder.is_dir(), f'{data_folder} is not a valid directory'\n",
    "\n",
    "# Where to store brain tiff files\n",
    "data_tiff = data_folder / 'brains_tiff' \n",
    "data_tiff.mkdir(parents=True, exist_ok=True)\n",
    "# Where to store brain tiff files\n",
    "data_nifti = data_folder / 'brains_nifti' \n",
    "data_nifti.mkdir(parents=True, exist_ok=True)"
   ]
  },
  {
   "cell_type": "markdown",
   "metadata": {},
   "source": [
    "## A. Tiff to Nifti"
   ]
  },
  {
   "cell_type": "markdown",
   "metadata": {},
   "source": [
    "### Select animals, channels, and resolution "
   ]
  },
  {
   "cell_type": "code",
   "execution_count": 6,
   "metadata": {},
   "outputs": [],
   "source": [
    "# Animal IDs\n",
    "# Initially we will only use the brains without any viral injections\n",
    "animal_ids = ['SW_BC38', 'SW_BC58', 'SW_BC73', 'SW_BC74']\n",
    "\n",
    "# Select fluorescent channel\n",
    "channel_colors = {'ch02': 'red', 'ch03': 'green', 'ch04': 'blue'} \n",
    "# For non-injected animals, the red or green channel can be used\n",
    "ch = 'ch03'\n",
    "color = channel_colors[ch]\n",
    "\n",
    "# Downsampled data are available at 3 resolutions at most\n",
    "resolutions = {'010_micron': 10, '025_micron': 25 , '050_micron': 50}\n",
    "# Let's start with the lowest resolution first\n",
    "res_name = '050_micron'\n",
    "pix_sizes = [resolutions[res_name]] * 3"
   ]
  },
  {
   "cell_type": "markdown",
   "metadata": {},
   "source": [
    "### Convert tiff images to nifti"
   ]
  },
  {
   "cell_type": "code",
   "execution_count": 7,
   "metadata": {},
   "outputs": [
    {
     "name": "stdout",
     "output_type": "stream",
     "text": [
      "ds_SW_BC38_210317_204349_50_50_ch03_green.tif converted to SW_BC38_ch03_green_050_micron.nii\n",
      "ds_SW_BC58_220614_120516_50_50_ch03_chan_3_green.tif converted to SW_BC58_ch03_green_050_micron.nii\n",
      "ds_SW_BC73_220614_120516_50_50_ch03_chan_3_green.tif converted to SW_BC73_ch03_green_050_micron.nii\n",
      "ds_SW_BC74white_220217_120749_50_50_ch03_chan_3_green.tif converted to SW_BC74_ch03_green_050_micron.nii\n"
     ]
    }
   ],
   "source": [
    "for animal_id in animal_ids:\n",
    "    # tiff folder\n",
    "    tiff_folder = data_tiff / animal_id / 'downsampled_stacks' / res_name\n",
    "    assert tiff_folder.is_dir(), f'{tiff_folder} is not a valid directory'\n",
    "    # Find valid tiff file in folder\n",
    "    tiff_file = [f for f in tiff_folder.iterdir() if (f.suffix == '.tif') & (color in f.name)][0]\n",
    "    # Define nifti file path\n",
    "    nifti_file = data_nifti / f'{animal_id}_{ch}_{color}_{res_name}.nii'\n",
    "    # Convert tiff to nifti\n",
    "    tiff_to_nifti(tiff_file, nifti_file, pix_sizes)\n",
    "    print(f'{tiff_file.name} converted to {nifti_file.name}')"
   ]
  },
  {
   "cell_type": "markdown",
   "metadata": {},
   "source": [
    "## Nifti to Tiff\n",
    "(After template is created by `Build Template.ipynb`)"
   ]
  },
  {
   "cell_type": "markdown",
   "metadata": {},
   "source": [
    "### Add template path"
   ]
  },
  {
   "cell_type": "code",
   "execution_count": 10,
   "metadata": {},
   "outputs": [],
   "source": [
    "template_version = 'v1'\n",
    "template_folder = data_folder / f'template_{template_version}'\n",
    "assert template_folder.is_dir(), f'{template_folder} is not a valid directory'"
   ]
  },
  {
   "cell_type": "markdown",
   "metadata": {},
   "source": [
    "### Convert useful template outputs to tiff\n",
    "This includes:\n",
    "1. The final template image (a sharpened 'average' of all input brains)\n",
    "2. The resample brain images into the template space (for asessing registration success)"
   ]
  },
  {
   "cell_type": "code",
   "execution_count": 46,
   "metadata": {},
   "outputs": [
    {
     "name": "stdout",
     "output_type": "stream",
     "text": [
      "Converting final template image to tiff...\n",
      "\ttemplate_sharpen_shapeupdate.nii.gz converted to template.tif\n",
      "Converting resampled brains to tiff...\n",
      "\tSW_BC38_ch03_green_050_micron.nii.gz converted to SW_BC38_ch03_green_050_micron_resampled.tif\n",
      "\tSW_BC58_ch03_green_050_micron.nii.gz converted to SW_BC58_ch03_green_050_micron_resampled.tif\n",
      "\tSW_BC73_ch03_green_050_micron.nii.gz converted to SW_BC73_ch03_green_050_micron_resampled.tif\n",
      "\tSW_BC74_ch03_green_050_micron.nii.gz converted to SW_BC74_ch03_green_050_micron_resampled.tif\n"
     ]
    }
   ],
   "source": [
    "final_template = template_folder / 'final' / 'average' / 'template_sharpen_shapeupdate.nii.gz'\n",
    "resampled_brains_dir = template_folder / 'final' / 'resample' \n",
    "resampled_brains = [f for f in resampled_brains_dir.iterdir() if f.suffix == '.gz']\n",
    "\n",
    "# Create new template subfolder for storing tiffs\n",
    "template_tiff_dir = template_folder / 'results_tiff'\n",
    "template_tiff_dir.mkdir(parents=True, exist_ok=True)\n",
    "\n",
    "print('Converting final template image to tiff...')\n",
    "template_tiff = template_tiff_dir / 'template.tif'\n",
    "nifti_to_tiff(final_template, template_tiff)\n",
    "print(f'\\t{final_template.name} converted to {template_tiff.name}')\n",
    "\n",
    "print('Converting resampled brains to tiff...')\n",
    "for resampled_brain in resampled_brains:\n",
    "    tiff_file = template_tiff_dir / f'{resampled_brain.stem.split(\".\")[0]}_resampled.tif'\n",
    "    nifti_to_tiff(resampled_brain, tiff_file)\n",
    "    print(f'\\t{resampled_brain.name} converted to {tiff_file.name}')"
   ]
  },
  {
   "cell_type": "code",
   "execution_count": null,
   "metadata": {},
   "outputs": [],
   "source": []
  }
 ],
 "metadata": {
  "kernelspec": {
   "display_name": "Python 3.10.6 ('bird')",
   "language": "python",
   "name": "python3"
  },
  "language_info": {
   "codemirror_mode": {
    "name": "ipython",
    "version": 3
   },
   "file_extension": ".py",
   "mimetype": "text/x-python",
   "name": "python",
   "nbconvert_exporter": "python",
   "pygments_lexer": "ipython3",
   "version": "3.10.6"
  },
  "orig_nbformat": 4,
  "vscode": {
   "interpreter": {
    "hash": "fa6b88674b7f11e3a2a9aaf1620e8d35bac60775c0f095b8595f60dfe5b675f0"
   }
  }
 },
 "nbformat": 4,
 "nbformat_minor": 2
}
